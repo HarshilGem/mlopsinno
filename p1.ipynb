{
 "cells": [
  {
   "cell_type": "code",
   "execution_count": 1,
   "id": "5c7efb6e",
   "metadata": {},
   "outputs": [],
   "source": [
    "import pandas as pd\n",
    "from sklearn.model_selection import train_test_split\n",
    "from sklearn.preprocessing import StandardScaler\n",
    "from sklearn.ensemble import RandomForestClassifier\n",
    "from sklearn.metrics import accuracy_score, classification_report\n",
    "import joblib\n",
    "\n",
    "# ==============================\n",
    "# Step 1: Load Dataset\n",
    "# ==============================\n",
    "# Replace 'your_dataset.csv' with your actual CSV file name\n",
    "data = pd.read_csv('Dataset_1.csv')\n",
    "\n",
    "# ==============================\n",
    "# Step 2: Separate Features and Target\n",
    "# ==============================\n",
    "X = data.drop('Scenario', axis=1)\n",
    "y = data['Scenario']\n",
    "\n",
    "# ==============================\n",
    "# Step 3: Split Dataset\n",
    "# ==============================\n",
    "X_train, X_test, y_train, y_test = train_test_split(\n",
    "    X, y, test_size=0.2, random_state=42, stratify=y\n",
    ")\n",
    "\n",
    "# ==============================\n",
    "# Step 4: Feature Scaling\n",
    "# ==============================\n",
    "scaler = StandardScaler()\n",
    "X_train_scaled = scaler.fit_transform(X_train)\n",
    "X_test_scaled = scaler.transform(X_test)"
   ]
  },
  {
   "cell_type": "code",
   "execution_count": 2,
   "id": "d096dce4",
   "metadata": {},
   "outputs": [
    {
     "name": "stdout",
     "output_type": "stream",
     "text": [
      "Accuracy: 0.9583333333333334\n",
      "\n",
      "Classification Report:\n",
      "               precision    recall  f1-score   support\n",
      "\n",
      "           1       1.00      1.00      1.00       200\n",
      "           2       0.94      0.94      0.94       200\n",
      "           3       0.94      0.94      0.94       200\n",
      "\n",
      "    accuracy                           0.96       600\n",
      "   macro avg       0.96      0.96      0.96       600\n",
      "weighted avg       0.96      0.96      0.96       600\n",
      "\n"
     ]
    }
   ],
   "source": [
    "# ==============================\n",
    "# Step 5: Train Random Forest Model\n",
    "# ==============================\n",
    "model = RandomForestClassifier(\n",
    "    n_estimators=200, random_state=42, max_depth=10\n",
    ")\n",
    "model.fit(X_train_scaled, y_train)\n",
    "\n",
    "# ==============================\n",
    "# Step 6: Evaluate Model\n",
    "# ==============================\n",
    "y_pred = model.predict(X_test_scaled)\n",
    "print(\"Accuracy:\", accuracy_score(y_test, y_pred))\n",
    "print(\"\\nClassification Report:\\n\", classification_report(y_test, y_pred))"
   ]
  },
  {
   "cell_type": "code",
   "execution_count": 3,
   "id": "e72e41ac",
   "metadata": {},
   "outputs": [
    {
     "name": "stdout",
     "output_type": "stream",
     "text": [
      "✅ Model saved as 'rf_jamming_model.pkl'\n",
      "✅ Scaler saved as 'scaler.pkl'\n"
     ]
    }
   ],
   "source": [
    "joblib.dump(model, 'rf_jamming_model.pkl')\n",
    "joblib.dump(scaler, 'scaler.pkl')\n",
    "\n",
    "print(\"✅ Model saved as 'rf_jamming_model.pkl'\")\n",
    "print(\"✅ Scaler saved as 'scaler.pkl'\")"
   ]
  }
 ],
 "metadata": {
  "kernelspec": {
   "display_name": "Python 3",
   "language": "python",
   "name": "python3"
  },
  "language_info": {
   "codemirror_mode": {
    "name": "ipython",
    "version": 3
   },
   "file_extension": ".py",
   "mimetype": "text/x-python",
   "name": "python",
   "nbconvert_exporter": "python",
   "pygments_lexer": "ipython3",
   "version": "3.13.5"
  }
 },
 "nbformat": 4,
 "nbformat_minor": 5
}
